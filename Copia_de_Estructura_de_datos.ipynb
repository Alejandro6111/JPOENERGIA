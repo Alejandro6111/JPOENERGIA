{
  "nbformat": 4,
  "nbformat_minor": 0,
  "metadata": {
    "colab": {
      "provenance": [],
      "include_colab_link": true
    },
    "kernelspec": {
      "name": "python3",
      "display_name": "Python 3"
    },
    "language_info": {
      "name": "python"
    }
  },
  "cells": [
    {
      "cell_type": "markdown",
      "metadata": {
        "id": "view-in-github",
        "colab_type": "text"
      },
      "source": [
        "<a href=\"https://colab.research.google.com/github/Alejandro6111/JPOENERGIA/blob/main/Copia_de_Estructura_de_datos.ipynb\" target=\"_parent\"><img src=\"https://colab.research.google.com/assets/colab-badge.svg\" alt=\"Open In Colab\"/></a>"
      ]
    },
    {
      "cell_type": "markdown",
      "source": [
        "Problema 1:\n",
        "Realizar un programa que imprima en pantalla los números del 0 al 100. Este problema lo podemos resolver perfectamente con el ciclo while pero en esta situación lo resolveremos empleando el for."
      ],
      "metadata": {
        "id": "zWgictteLccv"
      }
    },
    {
      "cell_type": "code",
      "source": [
        "for x in range (101):\n",
        "  print (x)"
      ],
      "metadata": {
        "colab": {
          "base_uri": "https://localhost:8080/"
        },
        "id": "fInRe1B-Ldz2",
        "outputId": "a4169ea4-8dfd-4b35-ce71-c9033b91c6a1"
      },
      "execution_count": null,
      "outputs": [
        {
          "output_type": "stream",
          "name": "stdout",
          "text": [
            "0\n",
            "1\n",
            "2\n",
            "3\n",
            "4\n",
            "5\n",
            "6\n",
            "7\n",
            "8\n",
            "9\n",
            "10\n",
            "11\n",
            "12\n",
            "13\n",
            "14\n",
            "15\n",
            "16\n",
            "17\n",
            "18\n",
            "19\n",
            "20\n",
            "21\n",
            "22\n",
            "23\n",
            "24\n",
            "25\n",
            "26\n",
            "27\n",
            "28\n",
            "29\n",
            "30\n",
            "31\n",
            "32\n",
            "33\n",
            "34\n",
            "35\n",
            "36\n",
            "37\n",
            "38\n",
            "39\n",
            "40\n",
            "41\n",
            "42\n",
            "43\n",
            "44\n",
            "45\n",
            "46\n",
            "47\n",
            "48\n",
            "49\n",
            "50\n",
            "51\n",
            "52\n",
            "53\n",
            "54\n",
            "55\n",
            "56\n",
            "57\n",
            "58\n",
            "59\n",
            "60\n",
            "61\n",
            "62\n",
            "63\n",
            "64\n",
            "65\n",
            "66\n",
            "67\n",
            "68\n",
            "69\n",
            "70\n",
            "71\n",
            "72\n",
            "73\n",
            "74\n",
            "75\n",
            "76\n",
            "77\n",
            "78\n",
            "79\n",
            "80\n",
            "81\n",
            "82\n",
            "83\n",
            "84\n",
            "85\n",
            "86\n",
            "87\n",
            "88\n",
            "89\n",
            "90\n",
            "91\n",
            "92\n",
            "93\n",
            "94\n",
            "95\n",
            "96\n",
            "97\n",
            "98\n",
            "99\n",
            "100\n"
          ]
        }
      ]
    },
    {
      "cell_type": "markdown",
      "source": [
        "Forma 2"
      ],
      "metadata": {
        "id": "AHb8vxI7MIMO"
      }
    },
    {
      "cell_type": "code",
      "source": [
        "x = 0\n",
        "while x<101:\n",
        "  print (x)\n",
        "  x=x+1"
      ],
      "metadata": {
        "colab": {
          "base_uri": "https://localhost:8080/"
        },
        "id": "vmPYrPDiMO0u",
        "outputId": "e76ba1f9-32e1-4208-fccd-913dffb816a9"
      },
      "execution_count": null,
      "outputs": [
        {
          "output_type": "stream",
          "name": "stdout",
          "text": [
            "0\n",
            "1\n",
            "2\n",
            "3\n",
            "4\n",
            "5\n",
            "6\n",
            "7\n",
            "8\n",
            "9\n",
            "10\n",
            "11\n",
            "12\n",
            "13\n",
            "14\n",
            "15\n",
            "16\n",
            "17\n",
            "18\n",
            "19\n",
            "20\n",
            "21\n",
            "22\n",
            "23\n",
            "24\n",
            "25\n",
            "26\n",
            "27\n",
            "28\n",
            "29\n",
            "30\n",
            "31\n",
            "32\n",
            "33\n",
            "34\n",
            "35\n",
            "36\n",
            "37\n",
            "38\n",
            "39\n",
            "40\n",
            "41\n",
            "42\n",
            "43\n",
            "44\n",
            "45\n",
            "46\n",
            "47\n",
            "48\n",
            "49\n",
            "50\n",
            "51\n",
            "52\n",
            "53\n",
            "54\n",
            "55\n",
            "56\n",
            "57\n",
            "58\n",
            "59\n",
            "60\n",
            "61\n",
            "62\n",
            "63\n",
            "64\n",
            "65\n",
            "66\n",
            "67\n",
            "68\n",
            "69\n",
            "70\n",
            "71\n",
            "72\n",
            "73\n",
            "74\n",
            "75\n",
            "76\n",
            "77\n",
            "78\n",
            "79\n",
            "80\n",
            "81\n",
            "82\n",
            "83\n",
            "84\n",
            "85\n",
            "86\n",
            "87\n",
            "88\n",
            "89\n",
            "90\n",
            "91\n",
            "92\n",
            "93\n",
            "94\n",
            "95\n",
            "96\n",
            "97\n",
            "98\n",
            "99\n",
            "100\n"
          ]
        }
      ]
    },
    {
      "cell_type": "markdown",
      "source": [
        "Problema 2:\n",
        "Realizar un programa que imprima en pantalla los números del 20 al 30."
      ],
      "metadata": {
        "id": "5XdINCX8McQO"
      }
    },
    {
      "cell_type": "code",
      "source": [
        "for x in range (20,31):\n",
        "  print (x)"
      ],
      "metadata": {
        "colab": {
          "base_uri": "https://localhost:8080/"
        },
        "id": "mg7_EgQiMg8t",
        "outputId": "ece7f6ee-db9a-4d05-cd73-91284c50836a"
      },
      "execution_count": null,
      "outputs": [
        {
          "output_type": "stream",
          "name": "stdout",
          "text": [
            "20\n",
            "21\n",
            "22\n",
            "23\n",
            "24\n",
            "25\n",
            "26\n",
            "27\n",
            "28\n",
            "29\n",
            "30\n"
          ]
        }
      ]
    },
    {
      "cell_type": "markdown",
      "source": [
        "Problema 3:\n",
        "Imprimir todos los números impares que hay entre 1 y 100."
      ],
      "metadata": {
        "id": "m6FDYzGIMpkm"
      }
    },
    {
      "cell_type": "code",
      "source": [
        "for x in range (1, 100, 2):\n",
        "  print (x)"
      ],
      "metadata": {
        "colab": {
          "base_uri": "https://localhost:8080/"
        },
        "id": "XOkajYBeMrp1",
        "outputId": "283fad45-27ed-40f5-ac04-68b684828623"
      },
      "execution_count": null,
      "outputs": [
        {
          "output_type": "stream",
          "name": "stdout",
          "text": [
            "1\n",
            "3\n",
            "5\n",
            "7\n",
            "9\n",
            "11\n",
            "13\n",
            "15\n",
            "17\n",
            "19\n",
            "21\n",
            "23\n",
            "25\n",
            "27\n",
            "29\n",
            "31\n",
            "33\n",
            "35\n",
            "37\n",
            "39\n",
            "41\n",
            "43\n",
            "45\n",
            "47\n",
            "49\n",
            "51\n",
            "53\n",
            "55\n",
            "57\n",
            "59\n",
            "61\n",
            "63\n",
            "65\n",
            "67\n",
            "69\n",
            "71\n",
            "73\n",
            "75\n",
            "77\n",
            "79\n",
            "81\n",
            "83\n",
            "85\n",
            "87\n",
            "89\n",
            "91\n",
            "93\n",
            "95\n",
            "97\n",
            "99\n"
          ]
        }
      ]
    },
    {
      "cell_type": "markdown",
      "source": [
        "Problema 4:\n",
        "Desarrollar un programa que permita la carga de 10 valores por teclado y nos muestre posteriormente la suma de los valores ingresados y su promedio. Este problema ya lo desarrollamos, lo resolveremos empleando la estructura for para repetir la carga de los diez valores por teclado."
      ],
      "metadata": {
        "id": "eYLmscxaM909"
      }
    },
    {
      "cell_type": "code",
      "source": [
        "suma = 0\n",
        "for f in range (10):\n",
        "  valor = int(input(\"Ingrese un valor: \"))\n",
        "  suma = suma + valor\n",
        "print (\"La suma es \")\n",
        "print (suma)\n",
        "promedio = suma/10\n",
        "print (\"El promedio es \")\n",
        "print (promedio5)"
      ],
      "metadata": {
        "colab": {
          "base_uri": "https://localhost:8080/"
        },
        "id": "zDkP2b44NDA9",
        "outputId": "ad2ae52b-447b-4d98-e134-81a7f20b13c2"
      },
      "execution_count": null,
      "outputs": [
        {
          "output_type": "stream",
          "name": "stdout",
          "text": [
            "Ingrese un valor20\n",
            "Ingrese un valor10\n",
            "Ingrese un valor25\n",
            "Ingrese un valor45\n",
            "Ingrese un valor24\n",
            "Ingrese un valor21\n",
            "Ingrese un valor5\n",
            "Ingrese un valor7\n",
            "Ingrese un valor45\n",
            "Ingrese un valor7\n",
            "La suma es \n",
            "209\n",
            "El promedio es \n",
            "20.9\n"
          ]
        }
      ]
    },
    {
      "cell_type": "markdown",
      "source": [
        "Problema 5:\n",
        "Escribir un programa que solicite por teclado 10 notas de alumnos y nos informe cuántos tienen notas mayores o iguales a 7 y cuántos menores."
      ],
      "metadata": {
        "id": "52yWtFE7NsWF"
      }
    },
    {
      "cell_type": "code",
      "source": [
        "aprobados = 0\n",
        "reprobados = 0\n",
        "for f in range (10):\n",
        "  nota = int (input(\"Ingrese la nota del estudiante: \"))\n",
        "  if nota>=7:\n",
        "    aprobados = aprobados + 1\n",
        "  else:\n",
        "    reprobados = reprobados + 1\n",
        "print (\"Cantidad de aprobador: \")\n",
        "print (aprobados)\n",
        "print (\"Cantidad de reprobados: \")\n",
        "print (reprobados)"
      ],
      "metadata": {
        "colab": {
          "base_uri": "https://localhost:8080/"
        },
        "id": "D_05fmAQNuZ1",
        "outputId": "cf0f7214-b8f1-48c6-edc8-a491e20092d8"
      },
      "execution_count": null,
      "outputs": [
        {
          "output_type": "stream",
          "name": "stdout",
          "text": [
            "Ingrese la nota del estudiante: 8\n",
            "Ingrese la nota del estudiante: 9\n",
            "Ingrese la nota del estudiante: 7\n",
            "Ingrese la nota del estudiante: 4\n",
            "Ingrese la nota del estudiante: 5\n",
            "Ingrese la nota del estudiante: 3\n",
            "Ingrese la nota del estudiante: 2\n",
            "Ingrese la nota del estudiante: 5\n",
            "Ingrese la nota del estudiante: 4\n",
            "Ingrese la nota del estudiante: 6\n",
            "Cantidad de aprobador: \n",
            "3\n",
            "Cantidad de reprobados: \n",
            "7\n"
          ]
        }
      ]
    },
    {
      "cell_type": "markdown",
      "source": [
        "Problema 6:\n",
        "Escribir un programa que lea 10 números enteros y luego muestre cuántos valores ingresados fueron múltiplos de 3 y cuántos de 5. Debemos tener en cuenta que hay números que son múltiplos de 3 y de 5 a la vez."
      ],
      "metadata": {
        "id": "hAJOcih3Px6V"
      }
    },
    {
      "cell_type": "code",
      "source": [
        "mul3 = 0\n",
        "mul5 = 0\n",
        "for f in range (10):\n",
        "  valor = int(input(\"Ingrese un valor: \"))\n",
        "  if valor%3 == 0:\n",
        "    mul3 = mul3 + 1\n",
        "  if valor%5 == 0:\n",
        "    mul5 = mul5 + 1\n",
        "print (\"Cantidad de valores ingresados con multiplos de 3\")\n",
        "print (mul3)\n",
        "print (\"Cantidad de valores ingresador con mumtiplos de 5\")\n",
        "print (mul5)"
      ],
      "metadata": {
        "colab": {
          "base_uri": "https://localhost:8080/"
        },
        "id": "pC_LdbiAP03c",
        "outputId": "e9d13a10-2c23-4f7f-ce58-54fd55e0a2df"
      },
      "execution_count": null,
      "outputs": [
        {
          "output_type": "stream",
          "name": "stdout",
          "text": [
            "Ingrese un valor: 5\n",
            "Ingrese un valor: 6\n",
            "Ingrese un valor: 4\n",
            "Ingrese un valor: 3\n",
            "Ingrese un valor: 6\n",
            "Ingrese un valor: 9\n",
            "Ingrese un valor: 7\n",
            "Ingrese un valor: 9\n",
            "Ingrese un valor: 5\n",
            "Ingrese un valor: 1\n",
            "Cantidad de valores ingresados con multiplos de 3\n",
            "5\n",
            "Cantidad de valores ingresador con mumtiplos de 5\n",
            "2\n"
          ]
        }
      ]
    },
    {
      "cell_type": "markdown",
      "source": [
        "Problema 7:\n",
        "Codificar un programa que lea n números enteros y calcule la cantidad de valores mayores o iguales a 1000 (n se carga por teclado)\n",
        "Este tipo de problemas también se puede resolver empleando la estructura repetitiva for. Lo primero que se hace es cargar una variable que indique la cantidad de valores a ingresar. Dicha variable se carga antes de entrar a la estructura repetitiva for."
      ],
      "metadata": {
        "id": "gGNOHC-jRRr8"
      }
    },
    {
      "cell_type": "code",
      "source": [
        "cantidad = 0\n",
        "n = int(input(\"Valores a ingresar: \"))\n",
        "for f in range (n):\n",
        "  valor = int(input(\"Ingrese un valor: \"))\n",
        "  if valor>=1000:\n",
        "    cantidad = cantidad + 1\n",
        "print (\"La cantidad de valores ingresador mauores o iguales a 1000 son\")\n",
        "print (cantidad)"
      ],
      "metadata": {
        "colab": {
          "base_uri": "https://localhost:8080/"
        },
        "id": "MfQEiuDERTkE",
        "outputId": "d136f9a0-8502-4dc1-8e1f-74d057c9da0f"
      },
      "execution_count": null,
      "outputs": [
        {
          "output_type": "stream",
          "name": "stdout",
          "text": [
            "Valores a ingresar: 2\n",
            "Ingrese un valor: 55\n",
            "Ingrese un valor: 66\n",
            "La cantidad de valores ingresador mauores o iguales a 1000 son\n",
            "0\n"
          ]
        }
      ]
    },
    {
      "cell_type": "markdown",
      "source": [
        "Problemas propuestos\n",
        "Ha llegado nuevamente la parte fundamental, que es el momento donde uno desarrolla individualmente un algoritmo para la resolución de un problema.\n",
        "\n",
        "Confeccionar un programa que lea n pares de datos, cada par de datos corresponde a la medida de la base y la altura de un triángulo. El programa deberá informar:\n",
        "a) De cada triángulo la medida de su base, su altura y su superficie.\n",
        "b) La cantidad de triángulos cuya superficie es mayor a 12."
      ],
      "metadata": {
        "id": "R_AX9qGzSOic"
      }
    },
    {
      "cell_type": "code",
      "source": [
        "n = int(input(\"Ingrese el numero de triangulos a procesar: \"))\n",
        "cantidad = 0\n",
        "for x in range (n):\n",
        "  base = int(input(\"Ingrese el valor de la base: \"))\n",
        "  altura = int(input(\"Ingrese el valor de la altura: \"))\n",
        "  superficie = base * altura /2\n",
        "  print(\"Superficie \")\n",
        "  print (superficie)\n",
        "  if superficie >12:\n",
        "    cantidad = cantidad + 1\n",
        "print (\"Cantidad de triangulos con superficie mayor a 12\")\n",
        "print (cantidad)\n",
        "\n",
        "\n"
      ],
      "metadata": {
        "colab": {
          "base_uri": "https://localhost:8080/"
        },
        "id": "crHFQCZdSQ98",
        "outputId": "a3badf84-926e-4edd-cf59-50a55151ee71"
      },
      "execution_count": null,
      "outputs": [
        {
          "output_type": "stream",
          "name": "stdout",
          "text": [
            "Ingrese el numero de triangulos a procesar: 2\n",
            "Ingrese el valor de la base: 12\n",
            "Ingrese el valor de la altura: 32\n",
            "Superficie \n",
            "192.0\n",
            "Ingrese el valor de la base: 56\n",
            "Ingrese el valor de la altura: 20\n",
            "Superficie \n",
            "560.0\n",
            "Cantidad de triangulos con superficie mayor a 12\n",
            "2\n"
          ]
        }
      ]
    },
    {
      "cell_type": "markdown",
      "source": [
        "Desarrollar un programa que solicite la carga de 10 números e imprima la suma de los últimos 5 valores ingresados.\n"
      ],
      "metadata": {
        "id": "xwhmbih2UEjb"
      }
    },
    {
      "cell_type": "code",
      "source": [
        "suma = 0\n",
        "for f in range (10):\n",
        "  valor = int(input(\"Ingrese un valor: \"))\n",
        "  if f >= 5:\n",
        "    suma = suma + valor\n",
        "print (\"La suma de los ultimos cinco valores es: \")\n",
        "print (suma)"
      ],
      "metadata": {
        "colab": {
          "base_uri": "https://localhost:8080/"
        },
        "id": "_ADqs0NsUFcz",
        "outputId": "e0e26b24-207f-46b9-8965-26b6267a5fac"
      },
      "execution_count": null,
      "outputs": [
        {
          "output_type": "stream",
          "name": "stdout",
          "text": [
            "Ingrese un valor: 5\n",
            "Ingrese un valor: 7\n",
            "Ingrese un valor: 9\n",
            "Ingrese un valor: 4\n",
            "Ingrese un valor: 5\n",
            "Ingrese un valor: 7\n",
            "Ingrese un valor: 5\n",
            "Ingrese un valor: 4\n",
            "Ingrese un valor: 6\n",
            "Ingrese un valor: 7\n",
            "La suma de los ultimos cinco calores es: \n",
            "29\n"
          ]
        }
      ]
    },
    {
      "cell_type": "markdown",
      "source": [
        "Desarrollar un programa que muestre la tabla de multiplicar del 5 (del 5 al 50)\n"
      ],
      "metadata": {
        "id": "R4QNvEkSVMpz"
      }
    },
    {
      "cell_type": "code",
      "source": [
        "for tablaS in range (5, 51, 5):\n",
        "  print (tablaS)\n",
        "\n",
        "for i in range (1, 11):\n",
        "  resultado = 5 * i\n",
        "  print (\"5\", \"x\", i, \"=\", resultado)\n",
        "\n"
      ],
      "metadata": {
        "colab": {
          "base_uri": "https://localhost:8080/"
        },
        "id": "Z8lqLv4aVO1L",
        "outputId": "a6fe7053-2ddc-4948-bdcb-64105cf13faa"
      },
      "execution_count": null,
      "outputs": [
        {
          "output_type": "stream",
          "name": "stdout",
          "text": [
            "5\n",
            "10\n",
            "15\n",
            "20\n",
            "25\n",
            "30\n",
            "35\n",
            "40\n",
            "45\n",
            "50\n",
            "5 x 1 = 5\n",
            "5 x 2 = 10\n",
            "5 x 3 = 15\n",
            "5 x 4 = 20\n",
            "5 x 5 = 25\n",
            "5 x 6 = 30\n",
            "5 x 7 = 35\n",
            "5 x 8 = 40\n",
            "5 x 9 = 45\n",
            "5 x 10 = 50\n"
          ]
        }
      ]
    },
    {
      "cell_type": "markdown",
      "source": [
        "Confeccionar un programa que permita ingresar un valor del 1 al 10 y nos muestre la tabla de multiplicar del mismo (los primeros 12 términos)\n",
        "Ejemplo: Si ingreso 3 deberá aparecer en pantalla los valores 3, 6, 9, hasta el 36."
      ],
      "metadata": {
        "id": "dilUVB6EXmhS"
      }
    },
    {
      "cell_type": "code",
      "source": [
        "valor = int(input(\"Ingrese un numero entre 1 y 10: \"))\n",
        "for f in range (1, 13):\n",
        "  tabla = valor * f\n",
        "  print (tabla)"
      ],
      "metadata": {
        "colab": {
          "base_uri": "https://localhost:8080/"
        },
        "id": "TBfChrYdXoOS",
        "outputId": "bfa9d594-7c6b-46b8-e32d-658f5311b17c"
      },
      "execution_count": null,
      "outputs": [
        {
          "output_type": "stream",
          "name": "stdout",
          "text": [
            "Ingrese un numero entre 1 y 10: 5\n",
            "5\n",
            "10\n",
            "15\n",
            "20\n",
            "25\n",
            "30\n",
            "35\n",
            "40\n",
            "45\n",
            "50\n",
            "55\n",
            "60\n"
          ]
        }
      ]
    },
    {
      "cell_type": "markdown",
      "source": [
        "Realizar un programa que lea los lados de n triángulos, e informar:\n",
        "a) De cada uno de ellos, qué tipo de triángulo es: equilátero (tres lados iguales), isósceles (dos lados iguales), o escaleno (ningún lado igual)\n",
        "b) Cantidad de triángulos de cada tipo."
      ],
      "metadata": {
        "id": "dwq5gjOjY2wj"
      }
    },
    {
      "cell_type": "code",
      "source": [
        "canti1 = 0\n",
        "canti2 = 0\n",
        "canti3 = 0\n",
        "n = int(input(\"Ingrese la cantidad de triangulos: \"))\n",
        "for f in range (n):\n",
        "  lado1 = int(input(\"Ingrese el lado 1 \"))\n",
        "  lado2 = int(input(\"Ingrese el lado 2: \"))\n",
        "  lado3 = int(input(\"ingrese el lado 3: \"))\n",
        "  if lado1 == lado2:\n",
        "    print(\"Triangulo equilatero\")\n",
        "    canti1 = canti1 + 1\n",
        "  else:\n",
        "    if lado1 == lado2 or lado1 == lado3 or lado2 == lado3:\n",
        "      print (\"Triangulo isoseles\")\n",
        "      canti2 = canti2 + 1\n",
        "    else:\n",
        "      print (\"Triangulo escaleno\")\n",
        "      canti3 = canti3 + 1\n",
        "print (\"Cantidad de triangulos equilateros: \")\n",
        "print (canti1)\n",
        "print (\"Cantidad de triangulos isoseles\")\n",
        "print (canti2)\n",
        "print (\"Cantidad de triangulos escalenos\")\n",
        "print (canti3)"
      ],
      "metadata": {
        "colab": {
          "base_uri": "https://localhost:8080/"
        },
        "id": "VLGuxeU9Y5fr",
        "outputId": "77482ae0-05e3-4ed6-f417-53277c2e9c53"
      },
      "execution_count": null,
      "outputs": [
        {
          "output_type": "stream",
          "name": "stdout",
          "text": [
            "Ingrese la cantidad de triangulos: 3\n",
            "Ingrese el lado 1 5\n",
            "Ingrese el lado 2: 6\n",
            "ingrese el lado 3: 5\n",
            "Triangulo isoseles\n",
            "Ingrese el lado 1 6\n",
            "Ingrese el lado 2: 6\n",
            "ingrese el lado 3: 6\n",
            "Triangulo equilatero\n",
            "Ingrese el lado 1 2\n",
            "Ingrese el lado 2: 5\n",
            "ingrese el lado 3: 9\n",
            "Triangulo escaleno\n",
            "Cantidad de triangulos equilateros: \n",
            "1\n",
            "Cantidad de triangulos isoseles\n",
            "1\n",
            "Cantidad de triangulos escalenos\n",
            "1\n"
          ]
        }
      ]
    },
    {
      "cell_type": "markdown",
      "source": [
        "Escribir un programa que pida ingresar coordenadas (x,y) que representan puntos en el plano.\n",
        "Informar cuántos puntos se han ingresado en el primer, segundo, tercer y cuarto cuadrante. Al comenzar el programa se pide que se ingrese la cantidad de puntos a procesar."
      ],
      "metadata": {
        "id": "TIK6J6Dwcbop"
      }
    },
    {
      "cell_type": "code",
      "source": [
        "cant1=0\n",
        "cant2=0\n",
        "cant3=0\n",
        "cant4=0\n",
        "n=int(input(\"Cantidad de puntos:\"))\n",
        "for f in range(n):\n",
        "    x=int(input(\"Ingrese coordenada x:\"))\n",
        "    y=int(input(\"Ingrese coordenada y:\"))\n",
        "    if x>0 and y>0:\n",
        "        cant1=cant1+1\n",
        "    else:\n",
        "        if x<0 and y>0:\n",
        "            cant2=cant2+1\n",
        "        else:\n",
        "            if x<0 and y<0:\n",
        "                cant3=cant3+1\n",
        "            else:\n",
        "                if x>0 and y<0:\n",
        "                    cant4=cant4+1\n",
        "\n",
        "print(\"Cantidad de puntos ingresados en el primer cuadrante\")\n",
        "print(cant1)\n",
        "print(\"Cantidad de puntos ingresados en el segundo cuadrante\")\n",
        "print(cant2)\n",
        "print(\"Cantidad de puntos ingresados en el tercer cuadrante\")\n",
        "print(cant3)\n",
        "print(\"Cantidad de puntos ingresados en el cuarto cuadrante\")\n",
        "print(cant4)"
      ],
      "metadata": {
        "colab": {
          "base_uri": "https://localhost:8080/"
        },
        "id": "tEqs66EHcdi5",
        "outputId": "7e94fc0c-187f-4e7d-9711-67e7c50ccd7e"
      },
      "execution_count": null,
      "outputs": [
        {
          "output_type": "stream",
          "name": "stdout",
          "text": [
            "Cantidad de puntos:2\n",
            "Ingrese coordenada x:1\n",
            "Ingrese coordenada y:3\n",
            "Ingrese coordenada x:5\n",
            "Ingrese coordenada y:1\n",
            "Cantidad de puntos ingresados en el primer cuadrante\n",
            "2\n",
            "Cantidad de puntos ingresados en el segundo cuadrante\n",
            "0\n",
            "Cantidad de puntos ingresados en el tercer cuadrante\n",
            "0\n",
            "Cantidad de puntos ingresados en el cuarto cuadrante\n",
            "0\n"
          ]
        }
      ]
    },
    {
      "cell_type": "markdown",
      "source": [
        "Se realiza la carga de 10 valores enteros por teclado. Se desea conocer:\n",
        "a) La cantidad de valores ingresados negativos.\n",
        "b) La cantidad de valores ingresados positivos.\n",
        "c) La cantidad de múltiplos de 15.\n",
        "d) El valor acumulado de los números ingresados que son pares."
      ],
      "metadata": {
        "id": "gG03pAkRci2B"
      }
    },
    {
      "cell_type": "code",
      "source": [
        "negativos=0\n",
        "positivos=0\n",
        "mult15=0\n",
        "suma_pares=0\n",
        "for f in range(10):\n",
        "    valor=int(input(\"Ingrese valor:\"))\n",
        "    if valor<0:\n",
        "        negativos=negativos+1\n",
        "    else:\n",
        "        if valor>0:\n",
        "            positivos=positivos+1\n",
        "if valor%15==0:\n",
        "    mult15=mult15+1\n",
        "if valor%2==0:\n",
        "    suma_pares=suma_pares+valor\n",
        "\n",
        "print(\"Cantidad de valores negativos\")\n",
        "print(negativos)\n",
        "print(\"Cantidad de valores positivos\")\n",
        "print(positivos)\n",
        "print(\"Cantidad de valores multiplos de 15\")\n",
        "print(mult15)\n",
        "print(\"La suma de los valores pares ingresados\")\n",
        "print(suma_pares)"
      ],
      "metadata": {
        "id": "PfnKKUmKcjpB"
      },
      "execution_count": null,
      "outputs": []
    },
    {
      "cell_type": "markdown",
      "source": [
        "Se cuenta con la siguiente información:\n",
        "Las edades de 5 estudiantes del turno mañana.\n",
        "Las edades de 6 estudiantes del turno tarde.\n",
        "Las edades de 11 estudiantes del turno noche.\n",
        "Las edades de cada estudiante deben ingresarse por teclado.\n",
        "a) Obtener el promedio de las edades de cada turno (tres promedios)\n",
        "b) Imprimir dichos promedios (promedio de cada turno)\n",
        "c) Mostrar por pantalla un mensaje que indique cual de los tres turnos tiene un promedio de edades mayor."
      ],
      "metadata": {
        "id": "_SKdPYkfdOkY"
      }
    },
    {
      "cell_type": "code",
      "source": [
        "suma1=0\n",
        "suma2=0\n",
        "suma3=0\n",
        "\n",
        "for f in range(5):\n",
        "    edad=int(input(\"Ingrese la edad:\"))\n",
        "    suma1=suma1+edad\n",
        "prom1=suma1/5\n",
        "print(\"Promedio de edades del turno mañana\")\n",
        "print(prom1)\n",
        "for f in range(6):\n",
        "    edad=int(input(\"Ingrese la edad:\"))\n",
        "    suma2=suma2+edad\n",
        "prom2=suma2/6\n",
        "print(\"Promedio de edades del turno tarde\")\n",
        "print(prom2)\n",
        "for f in range(11):\n",
        "    edad=int(input(\"Ingrese la edad:\"))\n",
        "    suma3=suma3+edad\n",
        "prom3=suma3/11\n",
        "print(\"Promedio de edades del turno noche\")\n",
        "print(prom3)\n",
        "if prom1<prom2 and prom1<prom3:\n",
        "    print(\"El turno mañana tiene un promedio de edades menor\")\n",
        "else:\n",
        "    if prom2<prom3:\n",
        "        print(\"El turno tarde tiene un promedio de edades menor\")\n",
        "    else:\n",
        "        print(\"El turno noche tiene un promedio de edades menor\")"
      ],
      "metadata": {
        "colab": {
          "base_uri": "https://localhost:8080/"
        },
        "id": "JOMuAE0DdQKQ",
        "outputId": "a57af76c-77ba-4ad7-82c4-23dd78c79847"
      },
      "execution_count": null,
      "outputs": [
        {
          "output_type": "stream",
          "name": "stdout",
          "text": [
            "Ingrese la edad:\n",
            "Por favor, ingrese un valor.\n",
            "Ingrese la edad:\n",
            "Por favor, ingrese un valor.\n",
            "Ingrese la edad:\n",
            "Por favor, ingrese un valor.\n",
            "Ingrese la edad:\n",
            "Por favor, ingrese un valor.\n",
            "Ingrese la edad:\n",
            "Por favor, ingrese un valor.\n",
            "Ingrese la edad:\n",
            "Por favor, ingrese un valor.\n",
            "Ingrese la edad:\n",
            "Por favor, ingrese un valor.\n",
            "Ingrese la edad:\n",
            "Por favor, ingrese un valor.\n",
            "Ingrese la edad:\n",
            "Por favor, ingrese un valor.\n",
            "Ingrese la edad:\n",
            "Por favor, ingrese un valor.\n",
            "Ingrese la edad:\n",
            "Por favor, ingrese un valor.\n",
            "Ingrese la edad:\n",
            "Por favor, ingrese un valor.\n",
            "Ingrese la edad:\n",
            "Por favor, ingrese un valor.\n",
            "Ingrese la edad:\n",
            "Por favor, ingrese un valor.\n",
            "Ingrese la edad:\n",
            "Por favor, ingrese un valor.\n",
            "Ingrese la edad:\n",
            "Por favor, ingrese un valor.\n",
            "Ingrese la edad:\n",
            "Por favor, ingrese un valor.\n",
            "Ingrese la edad:\n",
            "Por favor, ingrese un valor.\n",
            "Ingrese la edad:\n",
            "Por favor, ingrese un valor.\n",
            "Ingrese la edad:\n",
            "Por favor, ingrese un valor.\n",
            "Ingrese la edad:\n",
            "Por favor, ingrese un valor.\n",
            "Ingrese la edad:\n",
            "Por favor, ingrese un valor.\n",
            "Ingrese la edad:\n",
            "Por favor, ingrese un valor.\n",
            "Ingrese la edad:\n",
            "Por favor, ingrese un valor.\n",
            "Ingrese la edad:\n",
            "Por favor, ingrese un valor.\n",
            "Ingrese la edad:\n",
            "Por favor, ingrese un valor.\n",
            "Ingrese la edad:\n",
            "Por favor, ingrese un valor.\n",
            "Ingrese la edad:\n",
            "Por favor, ingrese un valor.\n",
            "Ingrese la edad:\n",
            "Por favor, ingrese un valor.\n",
            "Ingrese la edad:6\n",
            "Ingrese la edad:6\n",
            "Ingrese la edad:6\n",
            "Ingrese la edad:6\n",
            "Ingrese la edad:6\n",
            "Promedio de edades del turno mañana\n",
            "6.0\n",
            "Ingrese la edad:6\n",
            "Ingrese la edad:6\n",
            "Ingrese la edad:6\n",
            "Ingrese la edad:6\n",
            "Ingrese la edad:6\n",
            "Ingrese la edad:6\n",
            "Promedio de edades del turno tarde\n",
            "6.0\n",
            "Ingrese la edad:6\n",
            "Ingrese la edad:6\n",
            "Ingrese la edad:6\n",
            "Ingrese la edad:6\n",
            "Ingrese la edad:6\n",
            "Ingrese la edad:6\n",
            "Ingrese la edad:6\n",
            "Ingrese la edad:6\n",
            "Ingrese la edad:6\n",
            "Ingrese la edad:6\n",
            "Ingrese la edad:6\n",
            "Promedio de edades del turno noche\n",
            "6.0\n",
            "El turno noche tiene un promedio de edades menor\n"
          ]
        }
      ]
    },
    {
      "cell_type": "markdown",
      "source": [
        "Matrices"
      ],
      "metadata": {
        "id": "sq6cdSh5SgoA"
      }
    },
    {
      "cell_type": "code",
      "source": [
        "def potencia(base,exponente):\n",
        "  if exponente==0:\n",
        "    return 1\n",
        "  else:\n",
        "     aux=base\n",
        "     i=2\n",
        "     while(i<=exponente):\n",
        "       aux=aux*base\n",
        "       i=i+1\n",
        "     return aux\n",
        "\n",
        "potencia(2,5)"
      ],
      "metadata": {
        "colab": {
          "base_uri": "https://localhost:8080/"
        },
        "id": "srWcCDgPSlGH",
        "outputId": "0c690363-99fc-43fa-f145-9cc038fd3cfd"
      },
      "execution_count": null,
      "outputs": [
        {
          "output_type": "execute_result",
          "data": {
            "text/plain": [
              "32"
            ]
          },
          "metadata": {},
          "execution_count": 6
        }
      ]
    },
    {
      "cell_type": "markdown",
      "source": [
        "Si exponente == 0, retorna 1 (cualquier número a la 0 es 1).\n",
        "\n",
        "Si exponente > 0:\n",
        "\n",
        "aux arranca en base.\n",
        "\n",
        "i inicia en 2 (porque ya “contaste” una multiplicación).\n",
        "\n",
        "Mientras i <= exponente, multiplica aux por base y aumenta i.\n",
        "\n",
        "Al final retorna aux.\n",
        "\n",
        "Ejemplo con potencia(2, 5):\n",
        "\n",
        "Inicio: aux=2, i=2\n",
        "\n",
        "i=2: aux=2*2=4\n",
        "\n",
        "i=3: aux=4*2=8\n",
        "\n",
        "i=4: aux=8*2=16\n",
        "\n",
        "i=5: aux=16*2=32\n",
        "\n",
        "i=6 sale del while → retorna 32.\n",
        "\n",
        "👉 Esta versión funciona para exponentes enteros ≥ 0. No maneja exponentes negativos ni fraccionarios."
      ],
      "metadata": {
        "id": "Jib9awhvUYNm"
      }
    },
    {
      "cell_type": "code",
      "source": [
        "x=[]\n",
        "for i in range(5):\n",
        "  x.append(i)\n",
        "\n",
        "print(x)"
      ],
      "metadata": {
        "id": "Kj3RtQ1AUZNH"
      },
      "execution_count": null,
      "outputs": []
    },
    {
      "cell_type": "markdown",
      "source": [
        "Ese código crea una lista con los números del 0 al 4 y luego la imprime.\n",
        "\n",
        "x = [] → lista vacía\n",
        "\n",
        "for i in range(5): → i toma 0,1,2,3,4 (porque range(5) va hasta 5 sin incluirlo)\n",
        "\n",
        "x.append(i) → agrega cada i al final de la lista\n",
        "\n",
        "print(x) → muestra la lista"
      ],
      "metadata": {
        "id": "SjY3WtVyUdvw"
      }
    },
    {
      "cell_type": "code",
      "source": [
        "frutas=[\"manzana\",\"pera\",\"uva\"]\n",
        "for i in frutas:\n",
        "  print(i)"
      ],
      "metadata": {
        "id": "XWurLddvUvxQ"
      },
      "execution_count": null,
      "outputs": []
    },
    {
      "cell_type": "markdown",
      "source": [
        "Ese for recorre la lista y va tomando cada elemento en i, luego lo imprime.\n",
        "\n",
        "frutas = [\"manzana\", \"pera\", \"uva\"]\n",
        "\n",
        "for i in frutas: → i vale \"manzana\", luego \"pera\", luego \"uva\".\n",
        "\n",
        "print(i) imprime cada una en su propia línea."
      ],
      "metadata": {
        "id": "b41zSNk0UxmQ"
      }
    },
    {
      "cell_type": "code",
      "source": [
        "x=[]\n",
        "for i in range(5):\n",
        "  dato=input(\"ingrese dato \")\n",
        "  x.append(dato)\n",
        "\n",
        "print(x)"
      ],
      "metadata": {
        "id": "7bYcstRfU25H"
      },
      "execution_count": null,
      "outputs": []
    },
    {
      "cell_type": "markdown",
      "source": [
        "se código pide 5 datos por teclado y los guarda en una lista, luego la imprime.\n",
        "\n",
        "Paso a paso:\n",
        "\n",
        "x = [] crea una lista vacía.\n",
        "\n",
        "for i in range(5): repite 5 veces (i = 0..4).\n",
        "\n",
        "dato = input(\"ingrese dato \") lee desde teclado (¡siempre como str!).\n",
        "\n",
        "x.append(dato) agrega cada dato a la lista.\n",
        "\n",
        "print(x) muestra la lista completa.\n",
        "\n",
        "Ejemplo de ejecución (si escribes “a, b, c, d, e”):"
      ],
      "metadata": {
        "id": "a36FMBG6U5CX"
      }
    },
    {
      "cell_type": "code",
      "source": [
        "x=[]\n",
        "for i in range(5,10):\n",
        "  x.append(i)\n",
        "print(x)\n",
        "print(x[3])"
      ],
      "metadata": {
        "id": "ANrlHZDYU_Bv"
      },
      "execution_count": null,
      "outputs": []
    },
    {
      "cell_type": "markdown",
      "source": [
        "range(5, 10) genera 5, 6, 7, 8, 9 (el 10 no se incluye).\n",
        "\n",
        "La lista final es [5, 6, 7, 8, 9].\n",
        "\n",
        "x[3] accede al 4º elemento (índices empiezan en 0): es 8."
      ],
      "metadata": {
        "id": "Zns_s8pnVCZn"
      }
    },
    {
      "cell_type": "code",
      "source": [
        "y=[]\n",
        "for i in range(10,50,5):\n",
        "  y.append(i)\n",
        "\n",
        "print(y)"
      ],
      "metadata": {
        "id": "2XbaEQirVHaX"
      },
      "execution_count": null,
      "outputs": []
    },
    {
      "cell_type": "markdown",
      "source": [
        "Genera una lista desde 10 hasta 45 avanzando de 5 en 5 (el 50 no se incluye)."
      ],
      "metadata": {
        "id": "vcYgwb5dVNVI"
      }
    },
    {
      "cell_type": "code",
      "source": [
        "x=[2,3,6]\n",
        "for i in range(3):\n",
        "  print(\"posicion \",i, \" contenido \",x[i])"
      ],
      "metadata": {
        "colab": {
          "base_uri": "https://localhost:8080/"
        },
        "id": "ChdwlQ3zVQv3",
        "outputId": "cc48ffca-742f-4d57-8d36-2cb11922c549"
      },
      "execution_count": null,
      "outputs": [
        {
          "output_type": "stream",
          "name": "stdout",
          "text": [
            "posicion  0  contenido  2\n",
            "posicion  1  contenido  3\n",
            "posicion  2  contenido  6\n"
          ]
        }
      ]
    },
    {
      "cell_type": "markdown",
      "source": [
        "Ese código recorre por índice y muestra la posición y el contenido de la lista:"
      ],
      "metadata": {
        "id": "cMqg5pycVjkv"
      }
    },
    {
      "cell_type": "code",
      "source": [
        "Matriz= [\n",
        "          [6,8,3],\n",
        "          [7,5,4],\n",
        "          [9,2,1]\n",
        "        ]\n",
        "\n",
        "print(Matriz)\n",
        "print(Matriz[1][2])\n",
        "print(Matriz[0][1])\n",
        "print(Matriz[2][0])"
      ],
      "metadata": {
        "colab": {
          "base_uri": "https://localhost:8080/"
        },
        "id": "IcklRiknVkFH",
        "outputId": "89eb920f-76d6-4c1f-d752-4795b7696a33"
      },
      "execution_count": null,
      "outputs": [
        {
          "output_type": "stream",
          "name": "stdout",
          "text": [
            "[[6, 8, 3], [7, 5, 4], [9, 2, 1]]\n",
            "4\n",
            "8\n",
            "9\n"
          ]
        }
      ]
    },
    {
      "cell_type": "markdown",
      "source": [
        "Imprime la matriz y luego 3 accesos por fila/columna (índices arrancan en 0):\n",
        "\n",
        "Matriz[1][2] → fila 2, col 3 → 4\n",
        "\n",
        "Matriz[0][1] → fila 1, col 2 → 8\n",
        "\n",
        "Matriz[2][0] → fila 3, col 1 → 9"
      ],
      "metadata": {
        "id": "-V4ajhHlVr9Y"
      }
    },
    {
      "cell_type": "code",
      "source": [
        "# Definimos una matriz 3x3 (lista de listas) con enteros\n",
        "Matriz= [\n",
        "          [6,8,3],\n",
        "          [7,5,4],\n",
        "          [9,2,1]\n",
        "        ]\n",
        "\n",
        "# Cantidad de filas a recorrer (fijada en 3)\n",
        "filas=3\n",
        "# Cantidad de columnas a recorrer (fijada en 3)\n",
        "columnas=3\n",
        "\n",
        "# Recorre cada fila por índice: 0, 1, 2\n",
        "for fil in range(filas):\n",
        "  # Recorre cada columna por índice: 0, 1, 2\n",
        "  for col in range(columnas):\n",
        "    # Imprime el elemento en [fil][col] y deja dos espacios; evita salto de línea con end=\"  \"\n",
        "    print(Matriz[fil][col],end=\"  \")\n",
        "  # Al terminar cada fila, hace un salto de línea para pasar a la siguiente\n",
        "  print(\"\")\n"
      ],
      "metadata": {
        "colab": {
          "base_uri": "https://localhost:8080/"
        },
        "id": "4dsU4YqvWAIf",
        "outputId": "e80400d7-c2d2-4424-e67c-bc0a78b148a3"
      },
      "execution_count": null,
      "outputs": [
        {
          "output_type": "stream",
          "name": "stdout",
          "text": [
            "6  8  3  \n",
            "7  5  4  \n",
            "9  2  1  \n"
          ]
        }
      ]
    },
    {
      "cell_type": "markdown",
      "source": [
        "Ese doble for recorre la matriz por filas y columnas y la imprime en forma de cuadrícula.\n",
        "\n",
        "end=\" \" evita el salto de línea y añade dos espacios entre elementos.\n",
        "\n",
        "print(\"\") al final de cada fila fuerza el salto de línea."
      ],
      "metadata": {
        "id": "CaE_shLdWGVf"
      }
    },
    {
      "cell_type": "code",
      "source": [
        "# Definimos una matriz 3x3 (lista de listas) con enteros\n",
        "Matriz= [\n",
        "          [6,8,3],\n",
        "          [7,5,4],\n",
        "          [9,2,1]\n",
        "        ]\n",
        "\n",
        "# Definimos una función para imprimir la matriz 'Mat'\n",
        "def imprimir(Mat):\n",
        "  filas=3            # cantidad de filas a recorrer (fijada en 3)\n",
        "  columnas=3         # cantidad de columnas a recorrer (fijada en 3)\n",
        "  for fil in range(filas):            # recorre las filas: 0, 1, 2\n",
        "    for col in range(columnas):       # recorre las columnas: 0, 1, 2\n",
        "      print(Mat[fil][col],end=\"  \")   # imprime el elemento [fil][col] y deja dos espacios (sin salto de línea)\n",
        "    print(\"\")                         # al terminar cada fila, hace un salto de línea\n",
        "\n",
        "# Llamamos a la función para mostrar la matriz completa\n",
        "imprimir(Matriz)\n"
      ],
      "metadata": {
        "id": "Y35eMsBJWN33"
      },
      "execution_count": null,
      "outputs": []
    },
    {
      "cell_type": "markdown",
      "source": [
        "Tu función imprimir recorre la matriz con dos for y la muestra en forma de cuadrícula. Con esos datos fijos (3×3) la salida será:"
      ],
      "metadata": {
        "id": "cXAUJmv8WTv_"
      }
    },
    {
      "cell_type": "code",
      "source": [
        "# Definimos una matriz (lista de listas) de 3x3 con enteros\n",
        "Matriz= [\n",
        "          [6,8,3],\n",
        "          [7,5,4],\n",
        "          [9,2,1]\n",
        "        ]\n",
        "\n",
        "# Definimos una función que imprime la matriz 'Mat' con 'filas' y 'columnas' dadas\n",
        "def imprimir(Mat,filas,columnas):\n",
        "  # Recorre cada índice de fila desde 0 hasta filas-1\n",
        "  for fil in range(filas):\n",
        "    # Recorre cada índice de columna desde 0 hasta columnas-1\n",
        "    for col in range(columnas):\n",
        "      # Imprime el elemento en la posición [fil][col] y deja dos espacios al final.\n",
        "      # 'end=\"  \"' evita el salto de línea después de cada elemento.\n",
        "      print(Mat[fil][col],end=\"  \")\n",
        "    # Al terminar una fila, hace un salto de línea para pasar a la siguiente\n",
        "    print(\"\")\n",
        "\n",
        "# Llamamos a la función para imprimir la matriz de 3 filas por 3 columnas\n",
        "imprimir(Matriz,3,3)\n"
      ],
      "metadata": {
        "id": "ViEW4c9ZWbHg"
      },
      "execution_count": null,
      "outputs": []
    },
    {
      "cell_type": "code",
      "source": [
        "# Definimos la primera matriz 3x3 con enteros\n",
        "Matriz1= [\n",
        "          [6,8,3],\n",
        "          [7,5,4],\n",
        "          [9,2,1]\n",
        "        ]\n",
        "\n",
        "# Definimos la segunda matriz 3x3 con enteros\n",
        "Matriz2= [\n",
        "          [16,18,13],\n",
        "          [17,15,14],\n",
        "          [19,12,11]\n",
        "        ]\n",
        "\n",
        "# Función que imprime una matriz 'Mat' dada su cantidad de 'filas' y 'columnas'\n",
        "def imprimir(Mat,filas,columnas):\n",
        "  # Recorremos cada fila por índice: 0 .. filas-1\n",
        "  for fil in range(filas):\n",
        "    # Recorremos cada columna por índice: 0 .. columnas-1\n",
        "    for col in range(columnas):\n",
        "      # Imprimimos el elemento en [fil][col] y dejamos dos espacios; evitamos salto de línea con end=\"  \"\n",
        "      print(Mat[fil][col],end=\"  \")\n",
        "    # Al terminar la fila actual, hacemos un salto de línea para pasar a la siguiente\n",
        "    print(\"\")\n",
        "\n",
        "# Imprimimos la primera matriz (3 filas x 3 columnas)\n",
        "imprimir(Matriz1,3,3)\n",
        "# Línea en blanco para separar visualmente las dos impresiones\n",
        "print(\"\")\n",
        "# Imprimimos la segunda matriz (3 filas x 3 columnas)\n",
        "imprimir(Matriz2,3,3)\n"
      ],
      "metadata": {
        "colab": {
          "base_uri": "https://localhost:8080/"
        },
        "id": "-WPFiMsUW1CA",
        "outputId": "720c6302-d875-4c7b-cd30-b6f1e2d8e05f"
      },
      "execution_count": null,
      "outputs": [
        {
          "output_type": "stream",
          "name": "stdout",
          "text": [
            "6  8  3  \n",
            "7  5  4  \n",
            "9  2  1  \n",
            "\n",
            "16  18  13  \n",
            "17  15  14  \n",
            "19  12  11  \n"
          ]
        }
      ]
    },
    {
      "cell_type": "code",
      "source": [
        "# Matriz1: matriz 3x3 con enteros\n",
        "Matriz1= [\n",
        "          [6,8,3],\n",
        "          [7,5,4],\n",
        "          [9,2,1]\n",
        "        ]\n",
        "\n",
        "# Matriz2: otra matriz 3x3 con enteros\n",
        "Matriz2= [\n",
        "          [16,18,13],\n",
        "          [17,15,14],\n",
        "          [19,12,11]\n",
        "        ]\n",
        "\n",
        "# Matriz3: matriz 3x3 inicializada en ceros (aquí guardaremos la suma)\n",
        "Matriz3=[\n",
        "          [0,0,0],\n",
        "          [0,0,0],\n",
        "          [0,0,0]\n",
        "        ]\n",
        "\n",
        "# sumar: suma elemento a elemento Mat1 y Mat2 y guarda el resultado en Mat3\n",
        "# Recorre por índices cada fila (fil) y columna (col)\n",
        "def sumar(Mat1,Mat2,Mat3,filas,columnas):\n",
        "  for fil in range(filas):                 # fil toma 0..filas-1\n",
        "    for col in range(columnas):            # col toma 0..columnas-1\n",
        "      Mat3[fil][col]=Mat1[fil][col]+Mat2[fil][col]  # suma elemento a elemento\n",
        "\n",
        "# imprimir: muestra la matriz 'Mat' en forma de cuadricula usando filas y columnas dadas\n",
        "def imprimir(Mat,filas,columnas):\n",
        "  for fil in range(filas):                 # recorre fila por fila\n",
        "    for col in range(columnas):            # recorre columna por columna\n",
        "      print(Mat[fil][col],end=\"  \")        # imprime el elemento y dos espacios; sin salto de línea\n",
        "    print(\"\")                              # al terminar una fila, hace salto de línea\n",
        "\n",
        "# Imprime Matriz1 (3x3)\n",
        "imprimir(Matriz1,3,3)\n",
        "print(\"\")                                  # separador visual\n",
        "\n",
        "# Imprime Matriz2 (3x3)\n",
        "imprimir(Matriz2,3,3)\n",
        "\n",
        "# Realiza la suma elemento a elemento: Matriz3 = Matriz1 + Matriz2\n",
        "sumar(Matriz1,Matriz2,Matriz3,3,3)\n",
        "print(\"\")                                  # separador visual\n",
        "\n",
        "# Imprime el resultado de la suma en Matriz3 (3x3)\n",
        "imprimir(Matriz3,3,3)\n"
      ],
      "metadata": {
        "id": "5mBoCokeW2l3"
      },
      "execution_count": null,
      "outputs": []
    },
    {
      "cell_type": "markdown",
      "source": [
        "1. multiplicar dos matrices cuadradas. (filas matriz A, columnas de matriz B)\n",
        "2. Hallar la transpuesta de una matriz\n",
        "\n",
        "3 Hallar la determinante de una matriz de 3 * 3"
      ],
      "metadata": {
        "id": "P-NsQVMgW-lY"
      }
    },
    {
      "cell_type": "code",
      "source": [
        "# Matriz1: matriz cuadrada 3x3 con enteros\n",
        "Matriz1= [\n",
        "          [6,8,3],\n",
        "          [7,5,4],\n",
        "          [9,2,1]\n",
        "        ]\n",
        "\n",
        "# Matriz2: otra matriz cuadrada 3x3 con enteros\n",
        "Matriz2= [\n",
        "          [16,18,13],\n",
        "          [17,15,14],\n",
        "          [19,12,11]\n",
        "        ]\n",
        "\n",
        "# Matriz3: útil para operaciones (inicializada en ceros)\n",
        "Matriz3=[\n",
        "          [0,0,0],\n",
        "          [0,0,0],\n",
        "          [0,0,0]\n",
        "        ]\n",
        "\n",
        "# imprimir: muestra la matriz 'Mat' en formato de cuadrícula usando filas y columnas dadas\n",
        "def imprimir(Mat,filas,columnas):\n",
        "  for fil in range(filas):                # recorre cada fila por índice 0..filas-1\n",
        "    for col in range(columnas):           # recorre cada columna por índice 0..columnas-1\n",
        "      print(Mat[fil][col],end=\"  \")       # imprime el elemento y deja dos espacios; sin salto de línea\n",
        "    print(\"\")                             # al terminar una fila, hace salto de línea\n",
        "\n",
        "# 1) multiplicar: multiplica dos matrices cuadradas A (filasA x columnasA) y B (columnasA x columnasB)\n",
        "# El resultado se guarda en MatRes con tamaño (filasA x columnasB)\n",
        "def multiplicar(MatA,MatB,MatRes,filasA,columnasA,columnasB):\n",
        "  for fil in range(filasA):               # recorre filas de A (y del resultado)\n",
        "    for col in range(columnasB):          # recorre columnas de B (y del resultado)\n",
        "      acum = 0                            # acumulador para la suma de productos de la fila por la columna\n",
        "      for k in range(columnasA):          # índice intermedio: recorre columnas de A / filas de B\n",
        "        acum = acum + MatA[fil][k]*MatB[k][col]  # suma producto correspondiente\n",
        "      MatRes[fil][col] = acum             # asigna el valor acumulado a la casilla del resultado\n",
        "\n",
        "# 2) transpuesta: calcula la transpuesta de 'Mat' (filas x columnas) en 'MatT' (columnas x filas)\n",
        "def transpuesta(Mat,MatT,filas,columnas):\n",
        "  for fil in range(filas):                # recorre filas de la original\n",
        "    for col in range(columnas):           # recorre columnas de la original\n",
        "      MatT[col][fil] = Mat[fil][col]      # intercambia fila por columna en la transpuesta\n",
        "\n",
        "# 3) determinante_3x3: calcula la determinante de una matriz 3x3 usando la regla de Sarrus\n",
        "def determinante_3x3(Mat):\n",
        "  # extrae elementos por legibilidad\n",
        "  a11, a12, a13 = Mat[0][0], Mat[0][1], Mat[0][2]\n",
        "  a21, a22, a23 = Mat[1][0], Mat[1][1], Mat[1][2]\n",
        "  a31, a32, a33 = Mat[2][0], Mat[2][1], Mat[2][2]\n",
        "  # suma de diagonales principales menos suma de diagonales secundarias\n",
        "  det = (a11*a22*a33 + a12*a23*a31 + a13*a21*a32) - (a13*a22*a31 + a11*a23*a32 + a12*a21*a33)\n",
        "  return det\n",
        "\n",
        "# --------- DEMOSTRACIÓN ---------\n",
        "\n",
        "# Imprime Matriz1 y Matriz2\n",
        "print(\"Matriz1:\")\n",
        "imprimir(Matriz1,3,3)\n",
        "print(\"\")\n",
        "print(\"Matriz2:\")\n",
        "imprimir(Matriz2,3,3)\n",
        "\n",
        "# Multiplicación: MatMul = Matriz1 x Matriz2 (ambas 3x3)\n",
        "MatMul = [\n",
        "          [0,0,0],\n",
        "          [0,0,0],\n",
        "          [0,0,0]\n",
        "         ]                                 # matriz resultado inicializada en 0\n",
        "multiplicar(Matriz1,Matriz2,MatMul,3,3,3) # realiza la multiplicación 3x3\n",
        "print(\"\")\n",
        "print(\"Matriz1 x Matriz2:\")\n",
        "imprimir(MatMul,3,3)\n",
        "\n",
        "# Transpuesta: MatT = Transpuesta(Matriz1)\n",
        "MatT = [\n",
        "        [0,0,0],\n",
        "        [0,0,0],\n",
        "        [0,0,0]\n",
        "       ]                                   # matriz para guardar la transpuesta\n",
        "transpuesta(Matriz1,MatT,3,3)              # calcula transpuesta de 3x3\n",
        "print(\"\")\n",
        "print(\"Transpuesta de Matriz1:\")\n",
        "imprimir(MatT,3,3)\n",
        "\n",
        "# Determinantes de las dos matrices 3x3\n",
        "det1 = determinante_3x3(Matriz1)           # determinante de Matriz1\n",
        "det2 = determinante_3x3(Matriz2)           # determinante de Matriz2\n",
        "print(\"\")\n",
        "print(\"Determinante de Matriz1:\", det1)\n",
        "print(\"Determinante de Matriz2:\", det2)\n"
      ],
      "metadata": {
        "id": "8A2073YxXFFf"
      },
      "execution_count": null,
      "outputs": []
    },
    {
      "cell_type": "code",
      "source": [
        "# Definimos la matriz 4x4 donde la última columna y la última fila están en 0\n",
        "matriz = [\n",
        "          [5, 8, 2, 0],\n",
        "          [3, 7, 9, 0],\n",
        "          [6, 4, 1, 0],\n",
        "          [0, 0, 0, 0]\n",
        "]\n",
        "\n",
        "# Función para imprimir la matriz como cuadrícula usando 'filas' y 'columnas'\n",
        "def imprimir(Mat, filas, columnas):\n",
        "  for fil in range(filas):               # recorre cada fila por índice (0 .. filas-1)\n",
        "    for col in range(columnas):          # recorre cada columna por índice (0 .. columnas-1)\n",
        "      print(Mat[fil][col], end=\"  \")     # imprime el elemento y deja dos espacios (sin salto de línea)\n",
        "    print(\"\")                            # al terminar la fila, hace salto de línea\n",
        "\n",
        "# Sumas horizontales: coloca en la ÚLTIMA COLUMNA la suma de cada fila (excepto la última fila)\n",
        "def sumar_horizontales(Mat, filas, columnas):\n",
        "  for fil in range(filas-1):             # procesa filas 0..filas-2; la última fila se reserva para sumas verticales\n",
        "    suma = 0                             # acumulador para la suma de la fila actual\n",
        "    for col in range(columnas-1):        # suma solo las columnas 0..columnas-2; excluye la última columna\n",
        "      suma = suma + Mat[fil][col]        # acumula el valor del elemento\n",
        "    Mat[fil][columnas-1] = suma          # escribe la suma de la fila en la última columna\n",
        "\n",
        "# Sumas verticales: coloca en la ÚLTIMA FILA la suma de cada columna (excepto la última columna)\n",
        "# y calcula el total general en la esquina inferior derecha\n",
        "def sumar_verticales(Mat, filas, columnas):\n",
        "  for col in range(columnas-1):          # procesa columnas 0..columnas-2; la última columna queda para el total\n",
        "    suma = 0                             # acumulador para la suma de la columna actual\n",
        "    for fil in range(filas-1):           # suma solo las filas 0..filas-2; excluye la última fila\n",
        "      suma = suma + Mat[fil][col]        # acumula el valor del elemento\n",
        "    Mat[filas-1][col] = suma             # escribe la suma de la columna en la última fila\n",
        "\n",
        "  total = 0                              # acumulador para el total general\n",
        "  for col in range(columnas-1):          # suma los valores que acabamos de poner en la última fila (columnas 0..2)\n",
        "    total = total + Mat[filas-1][col]    # acumula para el total general\n",
        "  Mat[filas-1][columnas-1] = total       # escribe el total en la esquina inferior derecha\n",
        "\n",
        "# --------- DEMOSTRACIÓN ---------\n",
        "\n",
        "# Imprime matriz original\n",
        "print(\"Matriz original:\")\n",
        "imprimir(matriz, 4, 4)\n",
        "\n",
        "# Calcula sumas horizontales y verticales\n",
        "sumar_horizontales(matriz, 4, 4)         # coloca sumas por fila en la última columna\n",
        "sumar_verticales(matriz, 4, 4)           # coloca sumas por columna en la última fila y el total general\n",
        "\n",
        "print(\"\")                                 # separador visual\n",
        "print(\"Matriz con sumas horizontales y verticales:\")\n",
        "imprimir(matriz, 4, 4)                    # imprime la matriz resultante"
      ],
      "metadata": {
        "colab": {
          "base_uri": "https://localhost:8080/"
        },
        "id": "sKMJ9WFuXdcD",
        "outputId": "93839742-0932-49fd-ef7a-ce6139df21f3"
      },
      "execution_count": null,
      "outputs": [
        {
          "output_type": "stream",
          "name": "stdout",
          "text": [
            "Matriz original:\n",
            "5  8  2  0  \n",
            "3  7  9  0  \n",
            "6  4  1  0  \n",
            "0  0  0  0  \n",
            "\n",
            "Matriz con sumas horizontales y verticales:\n",
            "5  8  2  15  \n",
            "3  7  9  19  \n",
            "6  4  1  11  \n",
            "14  19  12  45  \n"
          ]
        }
      ]
    }
  ]
}